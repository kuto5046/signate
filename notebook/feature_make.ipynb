{
 "nbformat": 4,
 "nbformat_minor": 2,
 "metadata": {
  "language_info": {
   "name": "python",
   "codemirror_mode": {
    "name": "ipython",
    "version": 3
   }
  },
  "orig_nbformat": 2,
  "file_extension": ".py",
  "mimetype": "text/x-python",
  "name": "python",
  "npconvert_exporter": "python",
  "pygments_lexer": "ipython3",
  "version": 3
 },
 "cells": [
  {
   "cell_type": "code",
   "execution_count": 11,
   "metadata": {},
   "outputs": [],
   "source": [
    "import pandas as pd\n",
    "import pandas_profiling as pdp\n",
    "import numpy as np\n",
    "import seaborn as sns\n",
    "import matplotlib\n",
    "import requests\n",
    "import time\n",
    "from bs4 import BeautifulSoup\n",
    "from tqdm import tqdm\n",
    "import matplotlib.pyplot as plt\n",
    "import japanize_matplotlib\n",
    "%matplotlib inline"
   ]
  },
  {
   "cell_type": "code",
   "execution_count": 12,
   "metadata": {},
   "outputs": [],
   "source": [
    "train = pd.read_csv(\"../input/train.csv\")\n",
    "test = pd.read_csv(\"../input/test.csv\")\n",
    "\n",
    "train = train.rename(columns={'賃料': 'target', '契約期間': 'Contract', '間取り': 'Room',\n",
    "                                                      '築年数': 'Passed', '駐車場': 'Parking', '室内設備': 'Facility',\n",
    "                                                      '放送・通信': 'Internet', '周辺環境': 'Building', '建物構造': 'Material',\n",
    "                                                      '面積': 'Area', 'キッチン': 'Kitchen', '所在地': 'Place',\n",
    "                                                      'バス・トイレ': 'Bath', '所在階': 'Floor', 'アクセス': 'Access',\n",
    "                                                      '方角': 'Angle'})\n",
    "\n",
    "test = test.rename(columns={'契約期間': 'Contract', '間取り': 'Room', '築年数': 'Passed',\n",
    "                                                    '駐車場': 'Parking', '室内設備': 'Facility', '放送・通信': 'Internet',\n",
    "                                                    '周辺環境': 'Building', '建物構造': 'Material', '面積': 'Area',\n",
    "                                                    'キッチン': 'Kitchen', '所在地': 'Place', 'バス・トイレ': 'Bath',\n",
    "                                                    '所在階': 'Floor', 'アクセス': 'Access', '方角': 'Angle'})"
   ]
  },
  {
   "cell_type": "code",
   "execution_count": null,
   "metadata": {},
   "outputs": [],
   "source": []
  },
  {
   "cell_type": "code",
   "execution_count": 54,
   "metadata": {},
   "outputs": [],
   "source": [
    "train[\"Place\"] = train[\"Place\"].str.replace(\"東京都\", \"\").str.split(\"区\", expand=True)[0]\n",
    "train[\"Area\"] = train[\"Area\"].str.replace(\"m2\", \"\").astype(float).round()\n",
    "train[\"Passed\"] = train[\"Passed\"].str.replace(\"新築\", \"0年\").str.split(\"年\", expand=True)[0].astype(int)"
   ]
  },
  {
   "cell_type": "code",
   "execution_count": 55,
   "metadata": {},
   "outputs": [],
   "source": [
    "# 区ごとに築年数と面積の平均を特徴量に追加\n",
    "passed_mean = train.groupby(\"Place\")[\"Passed\"].mean()\n",
    "area_mean = train.groupby(\"Place\")[\"Area\"].mean()\n",
    "train[\"Passed_mean_per_ward\"] = train[\"Place\"].map(passed_mean)\n",
    "train[\"Area_mean_per_ward\"] = train[\"Place\"].map(area_mean)"
   ]
  },
  {
   "cell_type": "code",
   "execution_count": 56,
   "metadata": {},
   "outputs": [],
   "source": [
    "# Roomについて\n",
    "train[\"N_room\"] = train[\"Room\"].str[0].astype(int)  # strの１文字目（部屋数）を取得\n",
    "train[\"Area_per_nroom\"] = train[\"Area\"].round() / train[\"N_room\"]\n",
    "temp_room = train[\"Room\"].str[1:].replace(\"R\", \"\")\n",
    "train[\"L_room\"] = temp_room.str.contains(\"L\") * 1\n",
    "train[\"D_room\"] = temp_room.str.contains(\"D\") * 1\n",
    "train[\"K_room\"] = temp_room.str.contains(\"K\") * 1\n",
    "train[\"S_room\"] = temp_room.str.contains(\"S\") * 1\n",
    "train[\"N_room2\"] = train[\"N_room\"] + train[\"L_room\"] + train[\"D_room\"] + train[\"K_room\"] + train[\"S_room\"]"
   ]
  },
  {
   "cell_type": "code",
   "execution_count": 20,
   "metadata": {},
   "outputs": [
    {
     "data": {
      "text/plain": "array(['都営三田', '都営大江戸', '京王', '総武', '京成金町', '常磐', '西武池袋', '東急東横', '南北',\n       '埼京', '都営浅草', '京成本', '銀座', '中央', '京王新', '東武東上', '都営新宿', '半蔵門',\n       '西武新宿', '有楽町', '京浜東北', 'つくばエクスプレス', '小田急小田原', '副都心', '東西', '東急大井町',\n       '山手', '東急池上', '日比谷', '京成押上', '東武スカイツリーライン', '東急田園都市', '京急本',\n       '東急目黒', '千代田', '丸ノ内', '日暮里・舎人ライナー', '京王井の頭', '東武亀戸', '東急多摩川',\n       'ゆりかもめ', '都電荒川', '東急世田谷', '北総', '総武本', '東海道新幹', '京葉', '高崎', '西武豊島',\n       '京急空港', '横須賀', 'りんかい', '西武有楽町', '東武大師', '東武伊勢崎', '東北本',\n       '東京モノレール羽田', '東海道本', '湘南新宿ライン', '東北新幹', '京成成田空港'], dtype=object)"
     },
     "execution_count": 20,
     "metadata": {},
     "output_type": "execute_result"
    }
   ],
   "source": [
    "# アクセス\n",
    "one_access = train[\"Access\"].str.split(\"分\", expand=True)[0]\n",
    "one_access = one_access.str.replace(\"エクスプレス\", \"エクスプレス線\")\n",
    "one_access = one_access.str.replace(\"ライン\", \"ライン線\")\n",
    "one_access = one_access.str.replace(\"ライナー\", \"ライナー線\")\n",
    "one_access = one_access.str.replace(\"ゆりかもめ\", \"ゆりかもめ線\")\n",
    "one_access = one_access.str.split(\"線\", expand=True)\n",
    "one_access[1] = one_access[1].str.split(\"駅\", expand=True)[0].str.replace(\"\\t\", \"\")\n",
    "train[\"First_line\"] = one_access[0]\n",
    "train[\"First_line\"].unique()"
   ]
  },
  {
   "cell_type": "code",
   "execution_count": 25,
   "metadata": {},
   "outputs": [
    {
     "data": {
      "text/html": "<div>\n<style scoped>\n    .dataframe tbody tr th:only-of-type {\n        vertical-align: middle;\n    }\n\n    .dataframe tbody tr th {\n        vertical-align: top;\n    }\n\n    .dataframe thead th {\n        text-align: right;\n    }\n</style>\n<table border=\"1\" class=\"dataframe\">\n  <thead>\n    <tr style=\"text-align: right;\">\n      <th></th>\n      <th>0</th>\n      <th>1</th>\n      <th>2</th>\n      <th>3</th>\n    </tr>\n  </thead>\n  <tbody>\n    <tr>\n      <td>28872</td>\n      <td>中央本</td>\n      <td>(東京－松本)新宿</td>\n      <td>None</td>\n      <td>None</td>\n    </tr>\n    <tr>\n      <td>29428</td>\n      <td>中央本</td>\n      <td>(東京－松本)新宿</td>\n      <td>None</td>\n      <td>None</td>\n    </tr>\n  </tbody>\n</table>\n</div>",
      "text/plain": "         0          1     2     3\n28872  中央本  (東京－松本)新宿  None  None\n29428  中央本  (東京－松本)新宿  None  None"
     },
     "execution_count": 25,
     "metadata": {},
     "output_type": "execute_result"
    }
   ],
   "source": [
    "# アクセス\n",
    "one_access = test[\"Access\"].str.split(\"分\", expand=True)[0]\n",
    "one_access = one_access.str.replace(\"エクスプレス\", \"エクスプレス線\")\n",
    "one_access = one_access.str.replace(\"ライン\", \"ライン線\")\n",
    "one_access = one_access.str.replace(\"ライナー\", \"ライナー線\")\n",
    "one_access = one_access.str.replace(\"ゆりかもめ\", \"ゆりかもめ線\")\n",
    "one_access = one_access.str.split(\"線\", expand=True)\n",
    "one_access[1] = one_access[1].str.split(\"駅\", expand=True)[0].str.replace(\"\\t\", \"\")\n"
   ]
  },
  {
   "cell_type": "code",
   "execution_count": 37,
   "metadata": {},
   "outputs": [
    {
     "data": {
      "text/html": "<div>\n<style scoped>\n    .dataframe tbody tr th:only-of-type {\n        vertical-align: middle;\n    }\n\n    .dataframe tbody tr th {\n        vertical-align: top;\n    }\n\n    .dataframe thead th {\n        text-align: right;\n    }\n</style>\n<table border=\"1\" class=\"dataframe\">\n  <thead>\n    <tr style=\"text-align: right;\">\n      <th></th>\n      <th>0</th>\n      <th>1</th>\n      <th>2</th>\n      <th>3</th>\n    </tr>\n  </thead>\n  <tbody>\n    <tr>\n      <td>31156</td>\n      <td>埼玉高速鉄道</td>\n      <td>赤羽岩淵</td>\n      <td>None</td>\n      <td>None</td>\n    </tr>\n  </tbody>\n</table>\n</div>",
      "text/plain": "            0     1     2     3\n31156  埼玉高速鉄道  赤羽岩淵  None  None"
     },
     "execution_count": 37,
     "metadata": {},
     "output_type": "execute_result"
    }
   ],
   "source": [
    "one_access[one_access[0] == \"埼玉高速鉄道\"]"
   ]
  },
  {
   "cell_type": "code",
   "execution_count": 38,
   "metadata": {},
   "outputs": [
    {
     "data": {
      "text/html": "<div>\n<style scoped>\n    .dataframe tbody tr th:only-of-type {\n        vertical-align: middle;\n    }\n\n    .dataframe tbody tr th {\n        vertical-align: top;\n    }\n\n    .dataframe thead th {\n        text-align: right;\n    }\n</style>\n<table border=\"1\" class=\"dataframe\">\n  <thead>\n    <tr style=\"text-align: right;\">\n      <th></th>\n      <th>id</th>\n      <th>Place</th>\n      <th>Access</th>\n      <th>Room</th>\n      <th>Passed</th>\n      <th>Angle</th>\n      <th>Area</th>\n      <th>Floor</th>\n      <th>Bath</th>\n      <th>Kitchen</th>\n      <th>Internet</th>\n      <th>Facility</th>\n      <th>Parking</th>\n      <th>Building</th>\n      <th>Material</th>\n      <th>Contract</th>\n    </tr>\n  </thead>\n  <tbody>\n    <tr>\n      <td>31156</td>\n      <td>62627</td>\n      <td>東京都北区志茂５丁目</td>\n      <td>埼玉高速鉄道線\\t赤羽岩淵駅\\t徒歩8分\\t\\t南北線\\t志茂駅\\t徒歩10分\\t\\t京浜東...</td>\n      <td>1R</td>\n      <td>1年11ヶ月</td>\n      <td>NaN</td>\n      <td>7.25m2</td>\n      <td>1階／2階建</td>\n      <td>共同トイレ／\\tシャワー／\\t温水洗浄便座／\\t洗面台独立</td>\n      <td>給湯</td>\n      <td>NaN</td>\n      <td>エアコン付\\t室内洗濯機置場\\t公営水道／\\t都市ガス</td>\n      <td>駐車場\\t無</td>\n      <td>NaN</td>\n      <td>木造</td>\n      <td>2年間\\t※この物件は\\t定期借家\\tです。</td>\n    </tr>\n  </tbody>\n</table>\n</div>",
      "text/plain": "          id       Place                                             Access  \\\n31156  62627  東京都北区志茂５丁目  埼玉高速鉄道線\\t赤羽岩淵駅\\t徒歩8分\\t\\t南北線\\t志茂駅\\t徒歩10分\\t\\t京浜東...   \n\n      Room  Passed Angle    Area   Floor                           Bath  \\\n31156   1R  1年11ヶ月   NaN  7.25m2  1階／2階建  共同トイレ／\\tシャワー／\\t温水洗浄便座／\\t洗面台独立   \n\n      Kitchen Internet                     Facility Parking Building Material  \\\n31156      給湯      NaN  エアコン付\\t室内洗濯機置場\\t公営水道／\\t都市ガス  駐車場\\t無      NaN       木造   \n\n                     Contract  \n31156  2年間\\t※この物件は\\t定期借家\\tです。  "
     },
     "execution_count": 38,
     "metadata": {},
     "output_type": "execute_result"
    }
   ],
   "source": [
    "test[31156:31157]"
   ]
  },
  {
   "cell_type": "code",
   "execution_count": 10,
   "metadata": {},
   "outputs": [
    {
     "data": {
      "text/plain": "array(['都営三田', '都営大江戸', '京王', '総武', '京成金町', '常磐', '西武池袋', '東急東横', '南北',\n       '埼京', '都営浅草', '京成本', '銀座', '中央', '京王新', '東武東上', '都営新宿', '半蔵門',\n       '西武新宿', '有楽町', '京浜東北', 'つくばエクスプレス', '小田急小田原', '副都心', '東西', '東急大井町',\n       '山手', '東急池上', '日比谷', '京成押上', '東武スカイツリーライン', '東急田園都市', '京急本',\n       '東急目黒', '千代田', '丸ノ内', '日暮里・舎人ライナー', '京王井の頭', '東武亀戸', '東急多摩川',\n       'ゆりかもめ', '都電荒川', '東急世田谷', '北総', '総武本', '東海道新幹', '京葉', '高崎', '西武豊島',\n       '京急空港', '横須賀', 'りんかい', '西武有楽町', '東武大師', '東武伊勢崎', '東北本',\n       '東京モノレール羽田', '東海道本', '湘南新宿ライン', '東北新幹', '京成成田空港'], dtype=object)"
     },
     "execution_count": 10,
     "metadata": {},
     "output_type": "execute_result"
    }
   ],
   "source": [
    "train_new[\"First_line\"].unique()"
   ]
  },
  {
   "cell_type": "code",
   "execution_count": null,
   "metadata": {},
   "outputs": [],
   "source": []
  }
 ]
}